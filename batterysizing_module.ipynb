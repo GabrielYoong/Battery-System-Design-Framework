{
 "cells": [
  {
   "cell_type": "markdown",
   "metadata": {},
   "source": [
    "# Battery Sizing Module "
   ]
  },
  {
   "cell_type": "code",
   "execution_count": null,
   "metadata": {},
   "outputs": [],
   "source": [
    "import math"
   ]
  },
  {
   "cell_type": "code",
   "execution_count": 1,
   "metadata": {},
   "outputs": [],
   "source": [
    "### Processing Rainfall Cycle Data: into size metrics\n",
    "def get_battery_size(df, minimum_voltage, EOL, red_factor_th, red_factor_p):\n",
    "    size_metrics = {}\n",
    "    \n",
    "    ## Required Power\n",
    "    size_metrics['max_disch_MW'] =red_factor_p*max(df['max_disch_MW'])\n",
    "    size_metrics['max_ch_MW'] = red_factor_p*min(df['max_ch_MW'])\n",
    "    \n",
    "    ## Required Capacity (Throughput)\n",
    "    et = 0 # running value\n",
    "    et_list =[]\n",
    "    for row in df.iterrows():\n",
    "        row = row[1]\n",
    "        et += float(row['disch_th_kWh']+row['ch_th_kWh'])\n",
    "        et_list.append(et)\n",
    "        \n",
    "    et_list = [max([abs(ite) for ite in et_list])]    \n",
    "    et_list.append(abs(max(df['disch_th_kWh']))) # capacity required due to discharge\n",
    "    et_list.append(abs(min(df['ch_th_kWh']))) # capacity required due to charge\n",
    "    size_metrics['th_kWh'] = max(et_list)\n",
    "    size_metrics['th_kWh'] = size_metrics['th_kWh']*(100/EOL) # capacity is required at EOL\n",
    "    size_metrics['th_kWh'] = size_metrics['th_kWh']*red_factor_th\n",
    "    \n",
    "    ## Required Voltage\n",
    "    size_metrics['min_v'] = minimum_voltage\n",
    "    \n",
    "    return size_metrics"
   ]
  },
  {
   "cell_type": "code",
   "execution_count": 6,
   "metadata": {},
   "outputs": [],
   "source": [
    "### Getting Battery Design from processed size metrics\n",
    "def get_battery_design(size_metrics, cf):\n",
    "    \n",
    "    # Cell Model Variables\n",
    "    chem_nom_voltage = cf['Nom Voltage_V'] #V\n",
    "    chem_nom_cap = cf['Capacity_Ah'] #Ah\n",
    "    chem_max_cont_current = cf['Max Continuous Current_A']\n",
    "    \n",
    "    chem_nom_energy = chem_nom_cap * chem_nom_voltage\n",
    "    chem_nom_power = chem_max_cont_current*chem_nom_voltage\n",
    "    \n",
    "    design_metrics={}\n",
    "    ##Cells in series: min voltage\n",
    "    design_metrics[\"tot_cells_series\"] = math.ceil(size_metrics['min_v']/chem_nom_voltage)\n",
    "    \n",
    "    ##Cells in parallel: power & capacity (dependant on the limiting factor)\n",
    "    design_metrics['max_disch_power'] = size_metrics['max_disch_MW']\n",
    "    design_metrics['max_power']= max(abs(size_metrics['max_disch_MW']), abs(size_metrics['max_ch_MW']))\n",
    "    ## Determining parallel strings based on power or capacity\n",
    "    c_p_power = math.ceil(design_metrics['max_power']/(chem_nom_power*design_metrics[\"tot_cells_series\"]))\n",
    "    c_p_cap = math.ceil(math.ceil((size_metrics['th_kWh']*1000)/chem_nom_energy)/design_metrics[\"tot_cells_series\"])\n",
    "    \n",
    "    design_metrics[\"tot_cells_parallel\"] = max(c_p_power,c_p_cap)\n",
    "    design_metrics[\"tot_cells\"] =design_metrics[\"tot_cells_series\"]*design_metrics[\"tot_cells_parallel\"]\n",
    "    design_metrics[\"tot_cap\"] = (chem_nom_energy*design_metrics[\"tot_cells\"])/1000 ## kWh\n",
    "    \n",
    "    return design_metrics"
   ]
  }
 ],
 "metadata": {
  "kernelspec": {
   "display_name": "Python 3",
   "language": "python",
   "name": "python3"
  },
  "language_info": {
   "codemirror_mode": {
    "name": "ipython",
    "version": 3
   },
   "file_extension": ".py",
   "mimetype": "text/x-python",
   "name": "python",
   "nbconvert_exporter": "python",
   "pygments_lexer": "ipython3",
   "version": "3.7.6"
  },
  "toc": {
   "base_numbering": 1,
   "nav_menu": {},
   "number_sections": true,
   "sideBar": true,
   "skip_h1_title": false,
   "title_cell": "Table of Contents",
   "title_sidebar": "Contents",
   "toc_cell": false,
   "toc_position": {},
   "toc_section_display": true,
   "toc_window_display": false
  }
 },
 "nbformat": 4,
 "nbformat_minor": 4
}
