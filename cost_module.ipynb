{
 "cells": [
  {
   "cell_type": "markdown",
   "metadata": {},
   "source": [
    "# Cost Module"
   ]
  },
  {
   "cell_type": "code",
   "execution_count": 1,
   "metadata": {},
   "outputs": [],
   "source": [
    "import openpyxl\n",
    "import xlwings as xw\n",
    "import math"
   ]
  },
  {
   "cell_type": "code",
   "execution_count": null,
   "metadata": {},
   "outputs": [],
   "source": [
    "## Function calculating total cell cost for the pack over service life\n",
    "def initialCellCost(deg_dict, cf, design_dict, cost_scale_factor):\n",
    "    cost_dict={}\n",
    "    cost_dict[\"tot_replacements\"] = math.ceil(deg_dict['expected_life']/deg_dict['deg_life'])\n",
    "    cost_dict[\"cost_cell\"] = cf['Cost (GBP)']*cost_scale_factor\n",
    "    cost_dict[\"cost_pack_cells\"] = design_dict['tot_cells']*cost_dict[\"cost_cell\"]\n",
    "    \n",
    "    return cost_dict"
   ]
  },
  {
   "cell_type": "code",
   "execution_count": null,
   "metadata": {},
   "outputs": [],
   "source": [
    "## Refer chemistries to a certain cell model (for use in BatPaC)\n",
    "batPacChem = {}\n",
    "batPacChem['LFP'] = 'LFP-G'\n",
    "batPacChem['NMC']= 'NMC622-G'\n",
    "batPacChem['NCA']='NCA-G'\n",
    "batPacChem['IMR']='LMO-G'\n",
    "batPacChem['LTO']='LMO-LTO'\n",
    "batPacChem['LCO'] = 'LFP-G'"
   ]
  },
  {
   "cell_type": "code",
   "execution_count": 7,
   "metadata": {},
   "outputs": [],
   "source": [
    " ## Inputting cell design into BatPaC\n",
    "def input_BATPAC(c_path, design_dict, prod_rate, chem):\n",
    "    wb = openpyxl.load_workbook(c_path, read_only = False, keep_vba = True)\n",
    "    ws = wb['Dashboard']\n",
    "\n",
    "    ws['D33'] = design_dict['max_power']*1000 # max discharge power required (kW)\n",
    "    ws['D34'] = design_dict['tot_cells'] # number of cells total\n",
    "    ws['D35'] = design_dict['tot_cells_parallel'] # number of cells per module in parallel\n",
    "    ws['D39'] = math.ceil(prod_rate/design_dict['tot_cap']) # number of cells produced every year\n",
    "    ws['D43'] = design_dict['tot_cap'] # capacity in kWh\n",
    "    \n",
    "    ws['E9'] = batPacChem[chem]\n",
    "    \n",
    "    # Activates excel VBA code when application is opened\n",
    "    ws['D56'] = 0\n",
    "    \n",
    "    wb.save(c_path)\n",
    "    return"
   ]
  },
  {
   "cell_type": "code",
   "execution_count": null,
   "metadata": {},
   "outputs": [],
   "source": [
    "## Function to run VBA code and retrieve calculated battery pack cost\n",
    "def packcost_BATPAC(c_path):\n",
    "    wbxl = xw.Book(c_path)\n",
    "    app = xw.apps.active\n",
    "    \n",
    "    add_mod_cost = wbxl.sheets['Summary of Results'].range('G67').value\n",
    "    add_pack_cost = wbxl.sheets['Summary of Results'].range('G68').value\n",
    "    \n",
    "    try:\n",
    "        add_cost = add_mod_cost + add_pack_cost\n",
    "        wbxl.save()\n",
    "        app.quit() # close application\n",
    "    except:\n",
    "        print('BATPAC ERROR')\n",
    "        add_cost = 0\n",
    "        app.quit()\n",
    "\n",
    "    return add_cost"
   ]
  },
  {
   "cell_type": "code",
   "execution_count": 4,
   "metadata": {},
   "outputs": [],
   "source": [
    "## Calculating Total Service Cost Values\n",
    "def agg_costs(expected_life, deg_life, normal_cost, capacity_kWh):\n",
    "    tot_replacements = math.ceil(expected_life/deg_life)\n",
    "    tot_cost = tot_replacements*normal_cost*capacity_kWh/1000000 ##in £M\n",
    "    return tot_cost, tot_replacements"
   ]
  }
 ],
 "metadata": {
  "kernelspec": {
   "display_name": "Python 3",
   "language": "python",
   "name": "python3"
  },
  "language_info": {
   "codemirror_mode": {
    "name": "ipython",
    "version": 3
   },
   "file_extension": ".py",
   "mimetype": "text/x-python",
   "name": "python",
   "nbconvert_exporter": "python",
   "pygments_lexer": "ipython3",
   "version": "3.7.6"
  },
  "toc": {
   "base_numbering": 1,
   "nav_menu": {},
   "number_sections": true,
   "sideBar": true,
   "skip_h1_title": false,
   "title_cell": "Table of Contents",
   "title_sidebar": "Contents",
   "toc_cell": false,
   "toc_position": {},
   "toc_section_display": true,
   "toc_window_display": false
  }
 },
 "nbformat": 4,
 "nbformat_minor": 4
}
